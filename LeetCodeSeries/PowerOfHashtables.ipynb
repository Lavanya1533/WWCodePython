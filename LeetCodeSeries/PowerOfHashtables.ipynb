{
  "nbformat": 4,
  "nbformat_minor": 0,
  "metadata": {
    "colab": {
      "name": "Copy of PowerOfHashtables.ipynb",
      "provenance": [],
      "include_colab_link": true
    },
    "kernelspec": {
      "name": "python3",
      "display_name": "Python 3"
    },
    "language_info": {
      "name": "python"
    }
  },
  "cells": [
    {
      "cell_type": "markdown",
      "metadata": {
        "id": "view-in-github",
        "colab_type": "text"
      },
      "source": [
        "<a href=\"https://colab.research.google.com/github/nuageklow/WWCodePython/blob/master/LeetCodeSeries/PowerOfHashtables.ipynb\" target=\"_parent\"><img src=\"https://colab.research.google.com/assets/colab-badge.svg\" alt=\"Open In Colab\"/></a>"
      ]
    },
    {
      "cell_type": "markdown",
      "metadata": {
        "id": "cB2tGT9dVNaH"
      },
      "source": [
        "<font color=\"DarkOrchid\" size=4>**PROBLEM STATEMENT**</font>\n",
        "\n",
        "Given an array of strings `strs`, group the anagrams together. You can return the answer in any order.\n",
        "\n",
        "An **Anagram** is a word or phrase formed by rearranging the letters of a different word or phrase, typically using all the original letters exactly once."
      ]
    },
    {
      "cell_type": "markdown",
      "metadata": {
        "id": "hlbV-seFVJkI"
      },
      "source": [
        "<font color=\"DarkOrchid\" size=4>**EXAMPLES**</font>\n",
        "```\n",
        "1. strs = [\"eat\",\"tea\",\"tan\",\"ate\",\"nat\",\"bat\"]\n",
        "\n",
        "   result = [\n",
        "              [\"eat\", \"tea\", \"ate\"],\n",
        "              [\"tan\", \"nat\"],\n",
        "              [\"bat\"]\n",
        "         ]\n",
        "\n",
        "2. strs = [\"\"] => result = [[\"\"]]\n",
        "\n",
        "3. strs = [\"try\"] => result = [[\"try\"]]\n",
        "\n",
        "4. strs = [\"t\"] => result = [\"t\"]\n",
        "\n",
        "```\n",
        "\n",
        "\n"
      ]
    },
    {
      "cell_type": "markdown",
      "metadata": {
        "id": "voFI51dsXBf7"
      },
      "source": [
        "<font color=\"DarkOrchid\" size=4>**APPROACHES** (both use dictionaries)</font>\n",
        "1. Sort and compare\n",
        "  * Take each word\n",
        "  * Sort the letters in it\n",
        "  * Add into dictionary as `{sorted_word : [\"word_before_sorting\"]..}`\n",
        "  * Repeat for every word\n",
        "  * Return dict's values\n",
        "  ```\n",
        "    strs = [\"eat\",\"tea\",\"tan\",\"ate\",\"nat\",\"bat\"]\n",
        "\n",
        "    res = {\n",
        "      \"\" : [\"\"]\n",
        "      \n",
        "    }\n",
        "  ```\n",
        "    Time?\n",
        "    Space? \n",
        "\n",
        "\n",
        "2. Compute char array for each word and compare\n",
        "  * Take each word\n",
        "  * Find char count array representation of word\n",
        "  `[1, 0, ....] (len = 26)`\n",
        "  * Add into dictionary as tuple (hashable and safer than lists) for a word like so => `{char_count_array: [word, ..]..}`\n",
        "  * Repeat for each word\n",
        "  * Return dict's values\n",
        "    ```\n",
        "    strs = [\"eat\",\"tea\",\"tan\",\"ate\",\"nat\",\"bat\"]\n",
        "\n",
        "    res = {\n",
        "      () : [\"\"]\n",
        "      \n",
        "    }\n",
        "    ```\n",
        "\n",
        "    Time? O(N.K.26)\n",
        "\n",
        "    (26 since the char_count_array is the key in the dict and we need to process that each time when we compare each word's char_count_array with that key to add the word on as value)\n",
        "    \n",
        "    Space? "
      ]
    },
    {
      "cell_type": "code",
      "metadata": {
        "id": "qPQNDXIlZekN"
      },
      "source": [
        "def group_anagrams(self, strs):\n",
        "  pass"
      ],
      "execution_count": null,
      "outputs": []
    },
    {
      "cell_type": "code",
      "metadata": {
        "id": "62rOX1FuZupQ"
      },
      "source": [
        "print(group_anagrams([\"eat\",\"tea\",\"tan\",\"ate\",\"nat\",\"bat\"]))\n",
        "print(group_anagrams([\"\"]))\n",
        "print(group_anagrams([\"try\"]))\n",
        "print(group_anagrams([\"t\"]))"
      ],
      "execution_count": null,
      "outputs": []
    },
    {
      "cell_type": "markdown",
      "metadata": {
        "id": "XKPRi0ldXm0M"
      },
      "source": [
        ""
      ]
    }
  ]
}