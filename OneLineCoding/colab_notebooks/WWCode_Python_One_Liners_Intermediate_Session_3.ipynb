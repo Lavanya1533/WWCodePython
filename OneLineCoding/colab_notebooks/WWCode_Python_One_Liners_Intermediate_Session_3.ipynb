{
  "nbformat": 4,
  "nbformat_minor": 0,
  "metadata": {
    "colab": {
      "name": "WWCode Python One-Liners Intermediate Session-3.ipynb",
      "provenance": [],
      "collapsed_sections": [],
      "include_colab_link": true
    },
    "kernelspec": {
      "name": "python3",
      "display_name": "Python 3"
    },
    "language_info": {
      "name": "python"
    }
  },
  "cells": [
    {
      "cell_type": "markdown",
      "metadata": {
        "id": "view-in-github",
        "colab_type": "text"
      },
      "source": [
        "<a href=\"https://colab.research.google.com/github/nuageklow/WWCodePython/blob/master/OneLineCoding/colab_notebooks/WWCode_Python_One_Liners_Intermediate_Session_3.ipynb\" target=\"_parent\"><img src=\"https://colab.research.google.com/assets/colab-badge.svg\" alt=\"Open In Colab\"/></a>"
      ]
    },
    {
      "cell_type": "markdown",
      "metadata": {
        "id": "N_gNo6EzxiGT"
      },
      "source": [
        "# Welcome to *✨ Less is more: How to code python in one line ✨* !\n",
        "**Session 3: Intermediate level: part 2**\n",
        "\n",
        "Hosted by Women Who Code Python Track\n",
        "\n",
        "**Using Google Colab**\n",
        "\n",
        "To execute code throughout this Google Colab notebook, please click File -> Save a copy in drive"
      ]
    },
    {
      "cell_type": "markdown",
      "metadata": {
        "id": "UZK5kvzGxqet"
      },
      "source": [
        "#### Zen of Python"
      ]
    },
    {
      "cell_type": "markdown",
      "metadata": {
        "id": "Wz7lJqMdWhRM"
      },
      "source": [
        "A Pythoneer named **Tim Peters** once wrote 19 principles stating how one can write beautiful and clean code with Python. Came to be known as the **Zen of Python**. The guidelines motivate programmers to write simple, readable, and clean code.\n",
        "\n",
        "Being a developer, writing code and making it run is not the only job to do. Python is known for its readability and simplicity. Writing clean and readable code is an art which is appreciated by other programmers and let them understand every bit. "
      ]
    },
    {
      "cell_type": "code",
      "metadata": {
        "colab": {
          "base_uri": "https://localhost:8080/"
        },
        "id": "e4rCNgI-WkdF",
        "outputId": "7e70ee58-7c59-4b6c-de68-16a459b95789"
      },
      "source": [
        "import this\n"
      ],
      "execution_count": null,
      "outputs": [
        {
          "output_type": "stream",
          "name": "stdout",
          "text": [
            "The Zen of Python, by Tim Peters\n",
            "\n",
            "Beautiful is better than ugly.\n",
            "Explicit is better than implicit.\n",
            "Simple is better than complex.\n",
            "Complex is better than complicated.\n",
            "Flat is better than nested.\n",
            "Sparse is better than dense.\n",
            "Readability counts.\n",
            "Special cases aren't special enough to break the rules.\n",
            "Although practicality beats purity.\n",
            "Errors should never pass silently.\n",
            "Unless explicitly silenced.\n",
            "In the face of ambiguity, refuse the temptation to guess.\n",
            "There should be one-- and preferably only one --obvious way to do it.\n",
            "Although that way may not be obvious at first unless you're Dutch.\n",
            "Now is better than never.\n",
            "Although never is often better than *right* now.\n",
            "If the implementation is hard to explain, it's a bad idea.\n",
            "If the implementation is easy to explain, it may be a good idea.\n",
            "Namespaces are one honking great idea -- let's do more of those!\n"
          ]
        }
      ]
    },
    {
      "cell_type": "markdown",
      "metadata": {
        "id": "9vw9WOityRLs"
      },
      "source": [
        "### The kick-starter example 💃🏻\n",
        "\n",
        "Search engines rank textual information according to its relevance to a user query. To accomplish this, search engines analyze the content of the text to be searched. All text consists of words. Some words provide a lot\n",
        "of information about the content of the text—and others don’t. Examples for the former are words like white, whale, Captain, Ahab (Do you know the text?). Examples for the latter are words like is, to, as, the, a, or how, because most texts contain those words. Filtering out words that don’t contribute a lot of meaning is common practice when implementing search engines. A simple heuristic is to filter out all words with three characters or less."
      ]
    },
    {
      "cell_type": "code",
      "metadata": {
        "id": "OWzW5BTJyVGT",
        "colab": {
          "base_uri": "https://localhost:8080/"
        },
        "outputId": "64efdf64-e0a6-4d3e-b2c7-94b659417fc5"
      },
      "source": [
        "## Data\n",
        "text = '''Call me Ishmael. Some years ago - never mind how long precisely - having\n",
        "little or no money in my purse, and nothing particular to interest me\n",
        "on shore, I thought I would sail about a little and see the watery part\n",
        "of the world. It is a way I have of driving off the spleen, and regulating\n",
        "the circulation. - Moby Dick'''\n",
        "## One-Liner\n",
        "w = [[x for x in line.split() if len(x)>3] for line in text.split('\\n')]\n",
        "## Result\n",
        "print(w)"
      ],
      "execution_count": null,
      "outputs": [
        {
          "output_type": "stream",
          "name": "stdout",
          "text": [
            "[['Call', 'Ishmael.', 'Some', 'years', 'never', 'mind', 'long', 'precisely', 'having'], ['little', 'money', 'purse,', 'nothing', 'particular', 'interest'], ['shore,', 'thought', 'would', 'sail', 'about', 'little', 'watery', 'part'], ['world.', 'have', 'driving', 'spleen,', 'regulating'], ['circulation.', 'Moby', 'Dick']]\n"
          ]
        }
      ]
    },
    {
      "cell_type": "markdown",
      "metadata": {
        "id": "HCmgkVnQyZln"
      },
      "source": [
        "The one-liner creates a list of lists by using two nested list comprehension expressions:\n",
        "\n",
        "• The inner list comprehension expression [x for x in line.split() if len(x)>3] uses the string split() function to divide a given line into a sequence of words. We iterate over all words x and add them to the list if they have more than three characters.\n",
        "\n",
        "\n",
        "• The outer list comprehension expression creates the string line used in the previous statement. Again, it uses the split() function to divide the text on the newline characters '\\n'."
      ]
    },
    {
      "cell_type": "markdown",
      "metadata": {
        "id": "zuWoe8aqxyGH"
      },
      "source": [
        "### 👉🏼 Lambda or anonymous functions"
      ]
    },
    {
      "cell_type": "markdown",
      "metadata": {
        "id": "-jhD8vsbyGr1"
      },
      "source": [
        "A lambda function is a small anonymous function.\n",
        "\n",
        "A lambda function can take any number of arguments, but can only have one expression.\n",
        "\n",
        "> lambda arguments : expression\n",
        "\n",
        "The **expression** is executed and the result is returned.\n",
        "\n",
        "*Caveat:* You can have any number of arguments but  but only one expression, which is evaluated and returned.\n",
        "\n"
      ]
    },
    {
      "cell_type": "code",
      "metadata": {
        "id": "mcfxQgJFyu02"
      },
      "source": [
        "# Example : Add 10 to argument a, and return the result\n",
        "# Multiline code\n",
        "def func(a):\n",
        "  return a+10;\n",
        "print(func(5))"
      ],
      "execution_count": null,
      "outputs": []
    },
    {
      "cell_type": "code",
      "metadata": {
        "id": "B-D4R9w9x4ZM"
      },
      "source": [
        "# using Lambda to make it one-line\n",
        "x = lambda a : a + 10\n",
        "print(x(5))"
      ],
      "execution_count": null,
      "outputs": []
    },
    {
      "cell_type": "code",
      "metadata": {
        "id": "i_Vvto40zI9y"
      },
      "source": [
        "# practice: Summarize argument a, b, and c and return the result\n"
      ],
      "execution_count": null,
      "outputs": []
    },
    {
      "cell_type": "code",
      "metadata": {
        "id": "Z-ZGSDjC5xCw"
      },
      "source": [
        "# practice: Square a no.\n"
      ],
      "execution_count": null,
      "outputs": []
    },
    {
      "cell_type": "code",
      "metadata": {
        "id": "0a6u91R850f8"
      },
      "source": [
        "# practice: finding maximum of two no.s\n"
      ],
      "execution_count": null,
      "outputs": []
    },
    {
      "cell_type": "markdown",
      "metadata": {
        "id": "qXTCiWKt15ar"
      },
      "source": [
        "### 👉🏼 Map functions"
      ]
    },
    {
      "cell_type": "markdown",
      "metadata": {
        "id": "ASdLJ9xQ23Xs"
      },
      "source": [
        "map() function returns a map object(which is an iterator) of the results after applying the given function to each item of a given iterable (list, tuple etc.)\n",
        "\n",
        ">map(fun, iter)\n",
        "\n",
        "**fun :** It is a function to which map passes each element of given iterable.\n",
        "\n",
        "**iter :** It is a iterable which is to be mapped.\n",
        "\n",
        "**Returns** a list of the results after applying the given function  \n",
        "to each item of a given iterable (list, tuple etc.) "
      ]
    },
    {
      "cell_type": "code",
      "metadata": {
        "id": "XRJKbQp118L_"
      },
      "source": [
        "#Example 1: Python program to demonstrate working of map.\n",
        "  \n",
        "# Return double of n\n",
        "def addition(n):\n",
        "    return n + n\n",
        "  \n",
        "# We double all numbers using map()\n",
        "numbers = [1, 2, 3, 4]\n",
        "result = map(addition, numbers)\n",
        "print(list(result))"
      ],
      "execution_count": null,
      "outputs": []
    },
    {
      "cell_type": "markdown",
      "metadata": {
        "id": "y1wIvu4Y1oLr"
      },
      "source": [
        "#####Using **map()** with **Lambda**🤝"
      ]
    },
    {
      "cell_type": "code",
      "metadata": {
        "id": "7C88HdUg3o6q"
      },
      "source": [
        "#Example 1: Double all numbers using map and lambda\n",
        "  \n",
        "numbers = [1, 2, 3, 4]\n",
        "result = map(lambda x: x + x, numbers)\n",
        "print(list(result))"
      ],
      "execution_count": null,
      "outputs": []
    },
    {
      "cell_type": "code",
      "metadata": {
        "id": "yuLlo9-FDgL2"
      },
      "source": [
        "# Practice: \n",
        "'''checking whether string x contains substring y by using the expression y in x.\n",
        "This statement returns True if there exists at least one occurrence of the string y\n",
        "in the string x. For example, the expression '42' in 'The answer is 42' evaluates to True\n",
        ", while the expression '21' in 'The answer is 42' evaluates to False.'''\n",
        "\n",
        "## Check in Data for the substring 'anonymous'\n",
        "txt = ['lambda functions are anonymous functions.',\n",
        "       'anonymous functions dont have a name.',\n",
        "       'functions are objects in Python.']\n",
        "## One-Liner\n"
      ],
      "execution_count": null,
      "outputs": []
    },
    {
      "cell_type": "markdown",
      "metadata": {
        "id": "33RyHWJNzwzT"
      },
      "source": [
        "### 👉🏼 Filter functions"
      ]
    },
    {
      "cell_type": "markdown",
      "metadata": {
        "id": "A733mzGmz-lA"
      },
      "source": [
        "The filter() method filters the given sequence with the help of a function that tests each element in the sequence to be true or not.\n",
        "\n",
        "> filter(function, sequence)\n",
        "\n",
        "**function:** function that tests if each element of a sequence true or not.\n",
        "\n",
        "**sequence:** sequence which needs to be filtered, it can be sets, lists, tuples, or containers of any iterators.\n",
        "\n",
        "**Returns:**\n",
        "returns an iterator that is already filtered."
      ]
    },
    {
      "cell_type": "code",
      "metadata": {
        "id": "UMslRmvB0pzK"
      },
      "source": [
        "#Example 1: Use filter() to filter vowels from a sequence.\n",
        "\n",
        "# function that filters vowels\n",
        "def fun(variable):\n",
        "    letters = ['a', 'e', 'i', 'o', 'u']\n",
        "    if (variable in letters):\n",
        "        return True\n",
        "    else:\n",
        "        return False\n",
        "\n",
        "# sequence\n",
        "sequence = ['g', 'e', 'i', 'j', 'k', 's', 'p', 'r']\n",
        "\n",
        "# using filter function\n",
        "filtered = filter(fun, sequence)\n",
        "  \n",
        "print('The filtered letters are:',list(filtered))\n"
      ],
      "execution_count": null,
      "outputs": []
    },
    {
      "cell_type": "markdown",
      "metadata": {
        "id": "le_bdV9m1JBR"
      },
      "source": [
        "#####Using **filter()** with **Lambda**🤝"
      ]
    },
    {
      "cell_type": "code",
      "metadata": {
        "id": "iEl8DfSG6Psm"
      },
      "source": [
        "#Example: Finding all prime numbers\n",
        "#The all() function returns True if all items in an iterable are true, otherwise it returns False.\n",
        "list(filter(lambda x:all(x%y != 0 for y in range(2,x)),range(2,13)))"
      ],
      "execution_count": null,
      "outputs": []
    },
    {
      "cell_type": "code",
      "metadata": {
        "id": "pJpLxyXb1DoH"
      },
      "source": [
        "#Practice: a list contains both even and odd numbers. \n",
        "seq = [0, 1, 2, 3, 5, 8, 13]\n",
        "# result contains odd numbers of the list\n"
      ],
      "execution_count": null,
      "outputs": []
    },
    {
      "cell_type": "code",
      "metadata": {
        "id": "kSihTwScpjUw"
      },
      "source": [
        "# Practice: result contains even numbers of the list\n"
      ],
      "execution_count": null,
      "outputs": []
    },
    {
      "cell_type": "markdown",
      "metadata": {
        "id": "dXgdtmeU2IuE"
      },
      "source": [
        "### 👉🏼 Reduce functions"
      ]
    },
    {
      "cell_type": "markdown",
      "metadata": {
        "id": "idlDKQBx2PMG"
      },
      "source": [
        "Apply function of two arguments cumulatively to the items of iterable, from left to right, so as to reduce the iterable to a single value. \n",
        "\n",
        ">functools.reduce(function, iterable,initializer)\n",
        "\n",
        "If the optional initializer is present, it is placed before the items of the iterable in the calculation, and serves as a default when the iterable is empty.\n",
        "If initializer is not given and iterable contains only one item, the first item is returned."
      ]
    },
    {
      "cell_type": "code",
      "metadata": {
        "id": "9uJ8AQJ52R8z"
      },
      "source": [
        "from functools import reduce\n",
        "from operator import mul\n",
        "\n",
        "li = [5, 8, 10, 20, 50, 100]\n",
        "reduce(mul, li)"
      ],
      "execution_count": null,
      "outputs": []
    },
    {
      "cell_type": "markdown",
      "metadata": {
        "id": "vHK_Dvyp1sO_"
      },
      "source": [
        "#####Using **reduce()** with **Lambda**🤝"
      ]
    },
    {
      "cell_type": "code",
      "metadata": {
        "id": "D5Pbpxcx2ZxG"
      },
      "source": [
        "from functools import reduce\n",
        "li = [5, 8, 10, 20, 50, 100]\n",
        "multi = reduce((lambda x, y: x *y), li)\n",
        "print(multi)"
      ],
      "execution_count": null,
      "outputs": []
    },
    {
      "cell_type": "code",
      "metadata": {
        "id": "MDxeJJa744e2"
      },
      "source": [
        "# Practice: python code to get maximum number in the list using reduce() with a lambda function\n",
        "import functools\n",
        "lis = [ 1 , 3, 5, 6, 2]\n"
      ],
      "execution_count": null,
      "outputs": []
    },
    {
      "cell_type": "markdown",
      "metadata": {
        "id": "6iDHzDFab7f5"
      },
      "source": [
        "### 👉🏼 Reading a file in one-line\n"
      ]
    },
    {
      "cell_type": "code",
      "metadata": {
        "colab": {
          "base_uri": "https://localhost:8080/"
        },
        "id": "WaZEsqtmb39l",
        "outputId": "69a6ff1c-800b-41e1-bfa5-79bd2d7383c7"
      },
      "source": [
        "# Multi-line\n",
        "filename = \"my_file.txt\" \n",
        "f = open(filename)\n",
        "li= []\n",
        "for line in f:\n",
        "  li.append(line.strip()) #string.strip(): Removes leading and trailing \n",
        "                             #whitespaces including newline characters ‘\\n’ and tabular characters ‘\\t’.\n",
        "print(li)\n",
        "f.close()"
      ],
      "execution_count": null,
      "outputs": [
        {
          "output_type": "stream",
          "name": "stdout",
          "text": [
            "['print(\"hello world\")', 'print(\"Python is awesome\")']\n"
          ]
        }
      ]
    },
    {
      "cell_type": "markdown",
      "metadata": {
        "id": "7GBBgwBSeacz"
      },
      "source": [
        "And here's how it can be coded in one-line"
      ]
    },
    {
      "cell_type": "code",
      "metadata": {
        "id": "NMhTD6PzAKp_"
      },
      "source": [
        "#Way 1: using with : the with environment makes sure that there are no side-effects such as open files.\n",
        "with open(\"my_file.txt\") as f: li = [line.rstrip() for line in f]\n",
        "print(li)"
      ],
      "execution_count": null,
      "outputs": []
    },
    {
      "cell_type": "code",
      "metadata": {
        "colab": {
          "base_uri": "https://localhost:8080/"
        },
        "id": "pnVPgXDneXx1",
        "outputId": "b7fdef6b-8acd-4c7c-b574-47b00e3a63e4"
      },
      "source": [
        "#Way 2: using list comprehension\n",
        "li=[line.strip() for line in open(\"my_file.txt\")] \n",
        "print(li)"
      ],
      "execution_count": null,
      "outputs": [
        {
          "output_type": "stream",
          "name": "stdout",
          "text": [
            "['print(\"hello world\")', 'print(\"Python is awesome\")', 'print(\"this has been written using one-line code)']\n"
          ]
        }
      ]
    },
    {
      "cell_type": "markdown",
      "metadata": {
        "id": "tLciBhCAhmJi"
      },
      "source": [
        "### 👉🏼 Writing a file in one-line\n"
      ]
    },
    {
      "cell_type": "code",
      "metadata": {
        "id": "7WKwlfpr-M-D"
      },
      "source": [
        "#multi-line \n",
        "f = open(\"my_file.txt\", 'a') \n",
        "f.write(hi)\n",
        "f.close()"
      ],
      "execution_count": null,
      "outputs": []
    },
    {
      "cell_type": "code",
      "metadata": {
        "id": "F7-tSEfehs1q"
      },
      "source": [
        "#One line using with\n",
        "with open(\"my_file.txt\",'a') as f: f.write('\\nthis has been written using one-line code')"
      ],
      "execution_count": null,
      "outputs": []
    },
    {
      "cell_type": "markdown",
      "metadata": {
        "id": "9Xw0WTFUjf58"
      },
      "source": [
        "### 👉🏼 Generator Expressions!!\n",
        "\n",
        "Generator expressions work exactly like list comprehensions but without creating an actual list in memory. The numbers are created on the fly, without storing them explicitly in a list. Generator expressions are best used if a list is intermediary!\n"
      ]
    },
    {
      "cell_type": "markdown",
      "metadata": {
        "id": "tyvX5S-aE2Zv"
      },
      "source": [
        "### Generator expressions v/s List comprehension\n",
        "\n",
        "\n",
        "*   **Syntax:**\n",
        "\n",
        "() for generator expressions and [] for list comprehension\n",
        "*   **Memory:**\n",
        "\n",
        "A generator expression is lazy i.e. it creates a single element based on request. It loads only one single element to the memory.\n",
        "\n",
        "A list comprehension is eager i.e. it creates all elements right away and loads all of them into the memory.\n",
        "\n",
        "\n",
        "**Caveat:** Once a generator expression has been consumed, it can’t be restarted or reused.\n",
        "\n",
        "\n",
        "\n",
        "\n",
        "\n",
        "\n",
        "\n"
      ]
    },
    {
      "cell_type": "code",
      "metadata": {
        "id": "ROmLjiNDIEry"
      },
      "source": [
        "listcomp = ['Hello' for i in range(3)]\n",
        "listcomp"
      ],
      "execution_count": null,
      "outputs": []
    },
    {
      "cell_type": "code",
      "metadata": {
        "id": "6Pw6d743IHLm"
      },
      "source": [
        "genexpr = ('Hello' for i in range(3))\n",
        "genexpr"
      ],
      "execution_count": null,
      "outputs": []
    },
    {
      "cell_type": "code",
      "metadata": {
        "id": "oTk9GARRIShp"
      },
      "source": [
        "#calculate the sum of squares of the first 20 numbers\n",
        "list1=sum([x*x for x in range(40)])\n",
        "list1"
      ],
      "execution_count": null,
      "outputs": []
    },
    {
      "cell_type": "code",
      "metadata": {
        "id": "ePzvqHrmIXcT"
      },
      "source": [
        "list2=sum(x*x for x in range(40))\n",
        "print(list2)"
      ],
      "execution_count": null,
      "outputs": []
    },
    {
      "cell_type": "markdown",
      "metadata": {
        "id": "YUMWmwjmnlGJ"
      },
      "source": [
        "**Example**\n",
        "\n",
        "You work in law enforcement for the US Department of Labor, finding companies that pay below minimum wage so you can initiate further investigations. \n",
        "\n",
        "**Here’s your weapon:** \n",
        "Python’s any() function, which takes an iterable, such as a list, and returns True if at least one element of the iterable evaluates to True."
      ]
    },
    {
      "cell_type": "code",
      "metadata": {
        "id": "G1MJEEgmfDrw"
      },
      "source": [
        "'''Our data is a dictionary of dictionaries storing the hourly wages of company employees. \n",
        "You want to extract a list of the companies paying below your state’s minimum wage (< $9) for at least one employee'''\n",
        "## Data\n",
        "companies = {\n",
        "    'CoolCompany' : {'Alice' : 33, 'Bob' : 28, 'Frank' : 29},\n",
        "    'CheapCompany' : {'Ann' : 4, 'Lee' : 9, 'Chrisi' : 7},\n",
        "    'SosoCompany' : {'Esther' : 38, 'Cole' : 8, 'Paris' : 18}}\n",
        "## One-Liner\n",
        "illegal = (x for x in companies if any(y<9 for y in companies[x].values()))\n",
        "## Result\n",
        "print(list(illegal))"
      ],
      "execution_count": null,
      "outputs": []
    },
    {
      "cell_type": "markdown",
      "metadata": {
        "id": "iRvQ105rgl4Y"
      },
      "source": [
        "How it works:\n",
        "\n",
        "You use two generator expressions in this one-liner.\n",
        "\n",
        "1.   The first generator expression, y<9 for y in companies[x].values(), generates the input to the function any(). \n",
        "\n",
        "It checks each of the companies’ employees to see whether they are being paid below minimum wage, y<9. The result is an iterable of Booleans. \n",
        "\n",
        "You use the dictionary function values() to return the collection of values stored in the dictionary. For example, \n",
        ">the expression companies['CoolCompany'].values() returns the collection of hourly wages dict_values([33, 28, 29]). \n",
        "\n",
        "If at least one of them is below minimum wage, the function any() would return True, and the company name x would be stored as a string in the resulting list illegal, as described next.\n",
        "\n",
        "2. The second generator expression is the list comprehension [x for x in companies if any(...)] and it creates a list of company names for which the previous call of the function any() returns True. \n",
        "\n",
        "Those are the companies that pay below minimum wage. \n",
        "\n",
        "Note that the expression for x in companies visits all dictionary keys—the company names 'CoolCompany', 'CheapCompany', and 'SosoCompany'."
      ]
    }
  ]
}