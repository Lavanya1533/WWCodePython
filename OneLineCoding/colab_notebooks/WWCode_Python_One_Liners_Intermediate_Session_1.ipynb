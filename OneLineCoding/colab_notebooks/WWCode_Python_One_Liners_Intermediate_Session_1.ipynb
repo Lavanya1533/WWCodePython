{
  "nbformat": 4,
  "nbformat_minor": 0,
  "metadata": {
    "colab": {
      "name": "WWCode Python One-Liners Intermediate Session-1.ipynb",
      "provenance": [],
      "include_colab_link": true
    },
    "kernelspec": {
      "name": "python3",
      "display_name": "Python 3"
    },
    "language_info": {
      "name": "python"
    }
  },
  "cells": [
    {
      "cell_type": "markdown",
      "metadata": {
        "id": "view-in-github",
        "colab_type": "text"
      },
      "source": [
        "<a href=\"https://colab.research.google.com/github/nuageklow/WWCodePython/blob/master/OneLineCoding/colab_notebooks/WWCode_Python_One_Liners_Intermediate_Session_1.ipynb\" target=\"_parent\"><img src=\"https://colab.research.google.com/assets/colab-badge.svg\" alt=\"Open In Colab\"/></a>"
      ]
    },
    {
      "cell_type": "markdown",
      "metadata": {
        "id": "t2uEVhGkbFKZ"
      },
      "source": [
        "# Welcome to *✨ Less is more: How to code python in one line ✨* !\n",
        "**Session 2: Intermediate level: part 1**\n",
        "\n",
        "Hosted by Women Who Code Python Track\n",
        "\n",
        "**Using Google Colab**\n",
        "\n",
        "To execute code throughout this Google Colab notebook, please click File -> Save a copy in drive"
      ]
    },
    {
      "cell_type": "markdown",
      "metadata": {
        "id": "wymP4Vr1bT0g"
      },
      "source": [
        "#### Zen of Python"
      ]
    },
    {
      "cell_type": "markdown",
      "metadata": {
        "id": "ZnQrQqSPbSf9"
      },
      "source": [
        "A Pythoneer named **Tim Peters** once wrote 19 principles stating how one can write beautiful and clean code with Python. Came to be known as the **Zen of Python**. The guidelines motivate programmers to write simple, readable, and clean code.\n",
        "\n",
        "Being a developer, writing code and making it run is not the only job to do. Python is known for its readability and simplicity. Writing clean and readable code is an art which is appreciated by other programmers and let them understand every bit."
      ]
    },
    {
      "cell_type": "code",
      "metadata": {
        "colab": {
          "base_uri": "https://localhost:8080/"
        },
        "id": "JkifOyeYgGoA",
        "outputId": "31c904a0-ab1e-40a0-ac5a-35030c4fe2c5"
      },
      "source": [
        "import this"
      ],
      "execution_count": null,
      "outputs": [
        {
          "output_type": "stream",
          "name": "stdout",
          "text": [
            "The Zen of Python, by Tim Peters\n",
            "\n",
            "Beautiful is better than ugly.\n",
            "Explicit is better than implicit.\n",
            "Simple is better than complex.\n",
            "Complex is better than complicated.\n",
            "Flat is better than nested.\n",
            "Sparse is better than dense.\n",
            "Readability counts.\n",
            "Special cases aren't special enough to break the rules.\n",
            "Although practicality beats purity.\n",
            "Errors should never pass silently.\n",
            "Unless explicitly silenced.\n",
            "In the face of ambiguity, refuse the temptation to guess.\n",
            "There should be one-- and preferably only one --obvious way to do it.\n",
            "Although that way may not be obvious at first unless you're Dutch.\n",
            "Now is better than never.\n",
            "Although never is often better than *right* now.\n",
            "If the implementation is hard to explain, it's a bad idea.\n",
            "If the implementation is easy to explain, it may be a good idea.\n",
            "Namespaces are one honking great idea -- let's do more of those!\n"
          ]
        }
      ]
    },
    {
      "cell_type": "markdown",
      "metadata": {
        "id": "nbRBmdRv8R3Y"
      },
      "source": [
        "### 👉🏼 Printing patterns"
      ]
    },
    {
      "cell_type": "markdown",
      "metadata": {
        "id": "y0PnJxrl5xCJ"
      },
      "source": [
        "####Multi-line code"
      ]
    },
    {
      "cell_type": "code",
      "metadata": {
        "id": "8aW9JR56DjiV"
      },
      "source": [
        "n = 5 \n",
        "for i in range(0, n):    \n",
        "        for j in range(0, i + 1):  \n",
        "            print(\"😀\", end=\"\")       \n",
        "        print() "
      ],
      "execution_count": null,
      "outputs": []
    },
    {
      "cell_type": "markdown",
      "metadata": {
        "id": "8NpxvUWW50r9"
      },
      "source": [
        "####One-line code using **join** method.\n",
        "\n",
        "The join() method takes all items in an iterable and joins them into one string.\n",
        "\n",
        "A string must be specified as the separator."
      ]
    },
    {
      "cell_type": "code",
      "metadata": {
        "id": "KsvNwROE1r4u"
      },
      "source": [
        "n=5\n",
        "print('\\n'.join('😀' * i for i in range(1,n+1)))"
      ],
      "execution_count": null,
      "outputs": []
    },
    {
      "cell_type": "code",
      "metadata": {
        "id": "p7EoHou7C9fp"
      },
      "source": [
        "#example\n",
        "# print inverted triangle pattern of 10 lines with '🏀'\n"
      ],
      "execution_count": null,
      "outputs": []
    },
    {
      "cell_type": "markdown",
      "metadata": {
        "id": "SQ_QxXBTcCJu"
      },
      "source": [
        "### 👉🏼 Sum of even numbers in a list"
      ]
    },
    {
      "cell_type": "markdown",
      "metadata": {
        "id": "4jtQp1868X6w"
      },
      "source": [
        "####Multi-line code"
      ]
    },
    {
      "cell_type": "code",
      "metadata": {
        "id": "vfvh_VZ_bbD6"
      },
      "source": [
        "a=[1,2,3,4,5,6]\n",
        "s=0\n",
        "for i in range(len(a)+1):\n",
        "  if i%2 == 0:\n",
        "    s=s+i\n",
        "print(s)"
      ],
      "execution_count": null,
      "outputs": []
    },
    {
      "cell_type": "markdown",
      "metadata": {
        "id": "dx8R6fy08awF"
      },
      "source": [
        "####One line code using **sum()**\n",
        "\n",
        "Sum of numbers in the list is required everywhere. Python provide an inbuilt function sum() which sums up the numbers in the list."
      ]
    },
    {
      "cell_type": "code",
      "metadata": {
        "id": "fhAuRd3ucJv2"
      },
      "source": [
        "a=[1,2,3,4,5,6]\n",
        "s=sum([num for num in a if num%2 == 0]) #list comprehension \n",
        "print(s)\n"
      ],
      "execution_count": null,
      "outputs": []
    },
    {
      "cell_type": "code",
      "metadata": {
        "id": "xxS95PDz9bpT"
      },
      "source": [
        "#practice\n",
        "# get the sum of numbers that are divisble by 6 in an array of [10,12,36,42,60,5,30,6]\n",
        "a=[10,12,36,42,60,5,30,6]\n"
      ],
      "execution_count": null,
      "outputs": []
    },
    {
      "cell_type": "markdown",
      "metadata": {
        "id": "h7-1UP_5cMud"
      },
      "source": [
        "###👉🏼 Deleting multiple elements from a list\n"
      ]
    },
    {
      "cell_type": "markdown",
      "metadata": {
        "id": "HWj9yyyq_FEG"
      },
      "source": [
        "#### Multi line code"
      ]
    },
    {
      "cell_type": "code",
      "metadata": {
        "id": "RFMoFg4EcRFe"
      },
      "source": [
        "a=[1,2,3,4,5]\n",
        "del a[1]\n",
        "print(a)"
      ],
      "execution_count": null,
      "outputs": []
    },
    {
      "cell_type": "code",
      "metadata": {
        "id": "FDb7Vwu8-26R"
      },
      "source": [
        "del a[2]\n",
        "print(a)"
      ],
      "execution_count": null,
      "outputs": []
    },
    {
      "cell_type": "markdown",
      "metadata": {
        "id": "wXo3WdQB_NZv"
      },
      "source": [
        "#### one line code using **slicing**"
      ]
    },
    {
      "cell_type": "code",
      "metadata": {
        "id": "EaGPW8hqcTPU"
      },
      "source": [
        "a=[1,2,3,4,5]\n",
        "del a[1::2]\n",
        "print(a)"
      ],
      "execution_count": null,
      "outputs": []
    },
    {
      "cell_type": "markdown",
      "metadata": {
        "id": "-3EuxZvRcWI-"
      },
      "source": [
        "### 👉🏼 Creating lists"
      ]
    },
    {
      "cell_type": "code",
      "metadata": {
        "id": "ctxvDyjpD-s3"
      },
      "source": [
        "# code 1\n",
        "ls=[i for i in range(5)] #list comprehension \n",
        "print('list 1',ls)"
      ],
      "execution_count": null,
      "outputs": []
    },
    {
      "cell_type": "code",
      "metadata": {
        "id": "Kwa6aNtxcW1K"
      },
      "source": [
        "#code 2\n",
        "l = list(range(5))\n",
        "print('list 2',l)"
      ],
      "execution_count": null,
      "outputs": []
    },
    {
      "cell_type": "markdown",
      "metadata": {
        "id": "8xR1ARRZJVL_"
      },
      "source": [
        "###👉🏼 Generating groups"
      ]
    },
    {
      "cell_type": "code",
      "metadata": {
        "id": "BWlHalm4JWIO"
      },
      "source": [
        "groups = [(a,b) for a in ['a','b'] for b in [1,2,3]] #list comprehension \n",
        "groups "
      ],
      "execution_count": null,
      "outputs": []
    },
    {
      "cell_type": "code",
      "metadata": {
        "id": "HjOfQHSgIfvf"
      },
      "source": [
        "#practice\n",
        "'''Our goal is to create a new training data sample from our data—a list of lists, \n",
        "each consisting of six floats—by including only every other float value from the original data set to \n",
        "create a a list of lists, each consisting of three floats. '''\n",
        "\n",
        "## Data (daily stock prices ($))\n",
        "price = [[9.9, 9.8, 9.8, 9.4, 9.5, 9.7],\n",
        "         [9.5, 9.4, 9.4, 9.3, 9.2, 9.1],\n",
        "         [8.4, 7.9, 7.9, 8.1, 8.0, 8.0],\n",
        "         [7.1, 5.9, 4.8, 4.8, 4.7, 3.9]]\n",
        "\n"
      ],
      "execution_count": null,
      "outputs": []
    },
    {
      "cell_type": "markdown",
      "metadata": {
        "id": "FasRfzo0ce7V"
      },
      "source": [
        "###👉🏼 Simulating toss of a coin"
      ]
    },
    {
      "cell_type": "code",
      "metadata": {
        "id": "C6GRuFyJcju5"
      },
      "source": [
        "# random library is used to make random numbers.\n",
        "import random #important to import this library\n",
        "random.choice(['Head','Tail'])"
      ],
      "execution_count": null,
      "outputs": []
    },
    {
      "cell_type": "code",
      "metadata": {
        "id": "IxRs12i3ASDN"
      },
      "source": [
        "#practice\n",
        "#simulate a rolling dice\n"
      ],
      "execution_count": null,
      "outputs": []
    },
    {
      "cell_type": "markdown",
      "metadata": {
        "id": "CDz8DWqGcrSs"
      },
      "source": [
        "###👉🏼  Finding factorial\n",
        "\n",
        "n! = nx(n-1)x....2x1\n",
        "\n",
        "**e.g:** 5! = 5x4x3x2x1=120"
      ]
    },
    {
      "cell_type": "markdown",
      "metadata": {
        "id": "nb3H2i4AAkZ-"
      },
      "source": [
        "####Multi-line code"
      ]
    },
    {
      "cell_type": "code",
      "metadata": {
        "id": "cLn369udcvLO"
      },
      "source": [
        "num=6\n",
        "factorial=1; \n",
        "if num<0:\n",
        "   print(\"Factorial does not defined for negative integer\");\n",
        "elif(num==0):\n",
        "    print(\"The factorial of 0 is 1\");\n",
        "else:\n",
        "  while(num>0):\n",
        "        factorial=factorial*num\n",
        "        \n",
        "        num=num-1\n",
        "        \n",
        "  print(factorial)"
      ],
      "execution_count": null,
      "outputs": []
    },
    {
      "cell_type": "markdown",
      "metadata": {
        "id": "KeCtvLQeA8jo"
      },
      "source": [
        "####One line code using **math lib**"
      ]
    },
    {
      "cell_type": "code",
      "metadata": {
        "id": "uezqiQKfcwjP"
      },
      "source": [
        "import math #important to import this library\n",
        "num=6\n",
        "math.factorial(num)"
      ],
      "execution_count": null,
      "outputs": []
    },
    {
      "cell_type": "markdown",
      "metadata": {
        "id": "Xqer1LA2dz9V"
      },
      "source": [
        "###👉🏼Zip function to format databases\n",
        "\n",
        "The zip() function takes iterables iter_1, iter_2, ..., iter_n and aggregates them into a single iterable by aligning the corresponding i-th values into a single tuple. The result is an iterable of tuples. For example, consider these two lists:\n",
        "\n",
        "             [1,2,3]\n",
        "             [4,5,6]\n",
        "\n",
        "If you zip them together—after a simple data type conversion, as you’ll see in a moment—you’ll get a new list:\n",
        "\n",
        "             [(1,4), (2,5), (3,6)]\n",
        "\n",
        "Unzipping them back into the original tuples requires two steps. First, you remove the outer square bracket of the result to get the following three tuples:\n",
        "\n",
        "             (1,4)\n",
        "             (2,5)\n",
        "             (3,6)\n",
        "\n",
        "     \n",
        "Then when you zip those together, you get the new list:\n",
        "\n",
        " [(1,2,3), (4,5,6)]\n"
      ]
    },
    {
      "cell_type": "markdown",
      "metadata": {
        "id": "w_LoOmKtd5Vz"
      },
      "source": [
        "###Example\n",
        "\n",
        "Now, imagine you work in the IT branch of the controlling department of your company. You maintain the database of all employees with the column names: 'name', 'salary', and 'job'. However, your data is out of shape— it’s a collection of rows in the form ('Bob', 99000, 'mid-level manager'). You want to associate your column names to each data entry to bring it into the readable form {'name': 'Bob', 'salary': 99000, 'job': 'mid-level manager'}. How can you achieve that?"
      ]
    },
    {
      "cell_type": "code",
      "metadata": {
        "id": "O3PC6UgIdzsk"
      },
      "source": [
        "## Data\n",
        "column_names = ['name', 'salary', 'job']\n",
        "db_rows = [('Alice', 180000, 'data scientist'),\n",
        "           ('Bob', 99000, 'mid-level manager'),\n",
        "           ('Frank', 87000, 'CEO')]\n",
        "## One-Liner\n",
        "db = [dict(zip(column_names, row)) for row in db_rows]\n",
        "## Result\n",
        "print(db)\n"
      ],
      "execution_count": null,
      "outputs": []
    },
    {
      "cell_type": "code",
      "metadata": {
        "id": "jZvmGhsnEpsQ"
      },
      "source": [
        "#practice\n",
        "#map the names, roll no. and marks of the students and put it in a list\n",
        "name = [ \"Jenny\", \"Christy\", \"Monica\", \"Vicky\"]\n",
        "roll_no = [ 4, 1, 3, 2 ]\n",
        "marks = [90, 80, 75]\n",
        " \n"
      ],
      "execution_count": null,
      "outputs": []
    },
    {
      "cell_type": "markdown",
      "metadata": {
        "id": "UZfbrElueN4Y"
      },
      "source": [
        "###👉🏼 Accumulate( )\n",
        "\n",
        "itertools.accumulate(iterable[, func]) \n",
        "\n",
        "Makes an iterator that returns accumulated sum or accumulated results of other binary functions which is mentioned in func-parameter.\n",
        "If func is supplied, it should be a function of two arguments. Elements of the input iterable may be any type that can be accepted as arguments to func.\n",
        "If no function is passed, addition takes place by default. If the input iterable is empty, the output iterable will also be empty."
      ]
    },
    {
      "cell_type": "code",
      "metadata": {
        "id": "X8BIinf_eR8m"
      },
      "source": [
        "from itertools import accumulate\n",
        "from operator import mul\n",
        "\n",
        "numbers = [1, 2, 3, 4, 5, 6, 7, 8, 9, 10]\n",
        "list(accumulate(numbers, mul))\n"
      ],
      "execution_count": null,
      "outputs": []
    },
    {
      "cell_type": "code",
      "metadata": {
        "id": "jCbyXYtt1g2w"
      },
      "source": [
        "#practice\n",
        "#use accumulate function to find running max of list 'test'.\n",
        "test=[23,43,10,20,15,30,23,1,50]\n",
        "\n"
      ],
      "execution_count": null,
      "outputs": []
    },
    {
      "cell_type": "markdown",
      "metadata": {
        "id": "bBIfffwHEO2M"
      },
      "source": [
        "###👉🏼 Reduce( )\n",
        "\n",
        "Apply function of two arguments cumulatively to the items of iterable, from left to right, so as to reduce the iterable to a single value. \n",
        "\n",
        "functools.reduce(function, iterable,initializer)\n",
        "\n",
        "If the optional initializer is present, it is placed before the items of the iterable in the calculation, and serves as a default when the iterable is empty.\n",
        "If initializer is not given and iterable contains only one item, the first item is returned."
      ]
    },
    {
      "cell_type": "code",
      "metadata": {
        "id": "YUWJP8YzeShh"
      },
      "source": [
        "from functools import reduce\n",
        "reduce(mul, numbers)"
      ],
      "execution_count": null,
      "outputs": []
    },
    {
      "cell_type": "code",
      "metadata": {
        "id": "AUpfI3uq2v7Q"
      },
      "source": [
        "#practice\n",
        "#use reduce function to find running max of list 'test'.\n"
      ],
      "execution_count": null,
      "outputs": []
    },
    {
      "cell_type": "markdown",
      "metadata": {
        "id": "q11Tn3uvHLG6"
      },
      "source": [
        "Difference between reduce() and accumulate()\n",
        "\n",
        "* reduce() will return only an accumulated value.\n",
        "* accumulate() will return the running accumulated value. "
      ]
    },
    {
      "cell_type": "markdown",
      "metadata": {
        "id": "eHdDvYmnMKeC"
      },
      "source": [
        "###👉🏼 Finding all subsets of a set in one line.\n"
      ]
    },
    {
      "cell_type": "code",
      "metadata": {
        "id": "3CzUG70GMFXO",
        "colab": {
          "base_uri": "https://localhost:8080/"
        },
        "outputId": "0c02a3c2-e1a9-4786-9d4b-37b9f16f0375"
      },
      "source": [
        "from itertools import combinations\n",
        "print(list(combinations([1,2,3,4],2)))"
      ],
      "execution_count": null,
      "outputs": [
        {
          "output_type": "stream",
          "name": "stdout",
          "text": [
            "[(1, 2), (1, 3), (1, 4), (2, 3), (2, 4), (3, 4)]\n"
          ]
        }
      ]
    },
    {
      "cell_type": "code",
      "metadata": {
        "id": "I4ZtTYWS28Ql"
      },
      "source": [
        "#practice\n",
        "'''Say you want to eat only two fruits from given fruits, now randomly choose one \n",
        "from all possible combbinations that you can eat!'''\n",
        "fruits=['orange','mango','litchi','stawberry','grapes']\n"
      ],
      "execution_count": null,
      "outputs": []
    },
    {
      "cell_type": "markdown",
      "metadata": {
        "id": "ffsSKoGdAj6a"
      },
      "source": [
        "###👉🏼 Counting occurrence of a pattern\n",
        "\n",
        "Regular Expressions, often shortened as regex, are a sequence of characters used to check whether a pattern exists in a given text (string) or not. If you've ever used search engines, search and replace tools of word processors and text editors - you've already seen regular expressions in use.\n",
        "\n",
        "You will start with importing re - Python library that supports regular expressions."
      ]
    },
    {
      "cell_type": "code",
      "metadata": {
        "id": "WkWShBjtAWcB"
      },
      "source": [
        "import re\n",
        "len(re.findall('python','python is a programming language. python is python'))"
      ],
      "execution_count": null,
      "outputs": []
    },
    {
      "cell_type": "code",
      "metadata": {
        "id": "WPehaPKbKXcu"
      },
      "source": [
        "#practice\n",
        "#how many times does word 'better' comes in the zen of python\n",
        "s='''Beautiful is better than ugly.\n",
        "Explicit is better than implicit.\n",
        "Simple is better than complex.\n",
        "Complex is better than complicated.\n",
        "Flat is better than nested.\n",
        "Sparse is better than dense.\n",
        "Readability counts.\n",
        "Special cases aren't special enough to break the rules.\n",
        "Although practicality beats purity.\n",
        "Errors should never pass silently.\n",
        "Unless explicitly silenced.\n",
        "In the face of ambiguity, refuse the temptation to guess.\n",
        "There should be one-- and preferably only one --obvious way to do it.\n",
        "Although that way may not be obvious at first unless you're Dutch.\n",
        "Now is better than never.\n",
        "Although never is often better than *right* now.\n",
        "If the implementation is hard to explain, it's a bad idea.\n",
        "If the implementation is easy to explain, it may be a good idea.\n",
        "Namespaces are one honking great idea -- let's do more of those!'''\n",
        "\n"
      ],
      "execution_count": null,
      "outputs": []
    },
    {
      "cell_type": "markdown",
      "metadata": {
        "id": "v31tyurFAgvO"
      },
      "source": [
        "###👉🏼 Replacing a text with some other text"
      ]
    },
    {
      "cell_type": "code",
      "metadata": {
        "id": "hsvWimPOAY0H"
      },
      "source": [
        "\"python is a programming language. python is python\".replace(\"python\",\"java\")"
      ],
      "execution_count": null,
      "outputs": []
    },
    {
      "cell_type": "code",
      "metadata": {
        "id": "6-LFsW9vLpDf"
      },
      "source": [
        "#practice\n",
        "#replace 'better' with 'best' in the zen of python\n"
      ],
      "execution_count": null,
      "outputs": []
    }
  ]
}